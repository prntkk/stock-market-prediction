{
  "cells": [
    {
      "cell_type": "code",
      "execution_count": null,
      "metadata": {
        "colab": {
          "base_uri": "https://localhost:8080/"
        },
        "id": "636rapQVyCpt",
        "outputId": "3a726c98-e183-40c2-e9cf-2e768d68fb4a"
      },
      "outputs": [],
      "source": [
        "!pip install yfinance ta scikit-learn matplotlib seaborn plotly\n"
      ]
    },
    {
      "cell_type": "code",
      "execution_count": null,
      "metadata": {
        "colab": {
          "base_uri": "https://localhost:8080/"
        },
        "id": "cTVz2Wh7zL57",
        "outputId": "9d3ed169-1397-48f1-ca96-1034fdfdde0b"
      },
      "outputs": [],
      "source": [
        "import yfinance as yf\n",
        "import pandas as pd\n",
        "import numpy as np\n",
        "import matplotlib.pyplot as plt\n",
        "import seaborn as sns\n",
        "import plotly.graph_objects as go\n",
        "\n",
        "from sklearn.ensemble import RandomForestRegressor\n",
        "from sklearn.model_selection import train_test_split\n",
        "from sklearn.metrics import mean_squared_error, r2_score\n",
        "\n",
        "import ta  # Technical Analysis library\n",
        "\n",
        "# Optional: suppress warnings to keep output clean\n",
        "import warnings\n",
        "warnings.filterwarnings('ignore')\n",
        "\n",
        "print(\"Libraries imported successfully!\")\n"
      ]
    },
    {
      "cell_type": "code",
      "execution_count": null,
      "metadata": {
        "colab": {
          "base_uri": "https://localhost:8080/",
          "height": 321
        },
        "id": "hj0ld1YmzS6z",
        "outputId": "dce69147-4e13-48db-dcda-a79d7815b6a9"
      },
      "outputs": [],
      "source": [
        "# Define the ticker and the data period\n",
        "ticker = 'AAPL'\n",
        "data = yf.download(ticker, period='6mo', interval='1d')\n",
        "\n",
        "# Check if data is fetched\n",
        "if data.empty:\n",
        "    raise ValueError(\"No data fetched. Check the ticker, period, or your network connection.\")\n",
        "\n",
        "data.dropna(inplace=True)  # Remove any rows with missing values\n",
        "print(f\"Fetched {len(data)} rows for {ticker}\")\n",
        "data.head()\n"
      ]
    },
    {
      "cell_type": "code",
      "execution_count": null,
      "metadata": {
        "colab": {
          "base_uri": "https://localhost:8080/",
          "height": 286
        },
        "id": "X_42O-BazeZj",
        "outputId": "e98992f3-ffbd-4b1f-fe9b-48a1d66d9471"
      },
      "outputs": [],
      "source": [
        "# Calculate technical indicators using the ta library and flatten the output\n",
        "\n",
        "# Make sure data['Close'] is a Series (it usually is, but .squeeze() ensures 1D)\n",
        "close_series = data['Close'].squeeze()\n",
        "\n",
        "# Calculate and flatten the outputs before creating a Series aligned with the index\n",
        "sma_values = ta.trend.sma_indicator(close_series, window=20).values.flatten()\n",
        "ema_values = ta.trend.ema_indicator(close_series, window=20).values.flatten()\n",
        "rsi_values = ta.momentum.rsi(close_series, window=14).values.flatten()\n",
        "\n",
        "# Assign back to the DataFrame, ensuring the index is preserved\n",
        "data['SMA_20'] = pd.Series(sma_values, index=data.index)\n",
        "data['EMA_20'] = pd.Series(ema_values, index=data.index)\n",
        "data['RSI_14'] = pd.Series(rsi_values, index=data.index)\n",
        "\n",
        "# Drop any rows with NaN values that may have been created by the indicator calculations\n",
        "data.dropna(inplace=True)\n",
        "\n",
        "print(\"Technical indicators added.\")\n",
        "data.head()\n"
      ]
    },
    {
      "cell_type": "code",
      "execution_count": null,
      "metadata": {
        "colab": {
          "base_uri": "https://localhost:8080/",
          "height": 617
        },
        "id": "L-1XiTT_z1Ah",
        "outputId": "7e47baba-365a-4749-e332-264469d3880f"
      },
      "outputs": [],
      "source": [
        "fig = go.Figure()\n",
        "\n",
        "fig.add_trace(go.Candlestick(\n",
        "    x=data.index,\n",
        "    open=data['Open'],\n",
        "    high=data['High'],\n",
        "    low=data['Low'],\n",
        "    close=data['Close'],\n",
        "    name='Candlestick'\n",
        "))\n",
        "\n",
        "fig.add_trace(go.Scatter(\n",
        "    x=data.index,\n",
        "    y=data['SMA_20'],\n",
        "    mode='lines',\n",
        "    name='SMA 20'\n",
        "))\n",
        "\n",
        "fig.add_trace(go.Scatter(\n",
        "    x=data.index,\n",
        "    y=data['EMA_20'],\n",
        "    mode='lines',\n",
        "    name='EMA 20'\n",
        "))\n",
        "\n",
        "fig.update_layout(\n",
        "    title=f\"{ticker} Price Chart with Technical Indicators\",\n",
        "    xaxis_title=\"Date\",\n",
        "    yaxis_title=\"Price (USD)\",\n",
        "    xaxis_rangeslider_visible=False,\n",
        "    height=600\n",
        ")\n",
        "\n",
        "fig.show()\n"
      ]
    },
    {
      "cell_type": "code",
      "execution_count": null,
      "metadata": {
        "colab": {
          "base_uri": "https://localhost:8080/",
          "height": 286
        },
        "id": "f-qpvb392Mwc",
        "outputId": "89d0e8c5-9c35-40d5-d137-f29800ac234f"
      },
      "outputs": [],
      "source": [
        "# Create a new target column: next day’s close\n",
        "data['Target'] = data['Close'].shift(-1)\n",
        "\n",
        "# Drop the last row as it will have a missing Target\n",
        "data = data.dropna()\n",
        "\n",
        "# Select features and label\n",
        "features = data[['Open', 'High', 'Low', 'Volume', 'SMA_20', 'EMA_20', 'RSI_14']]\n",
        "label = data['Target']\n",
        "\n",
        "print(f\"Features shape: {features.shape}, Label shape: {label.shape}\")\n",
        "data.tail()\n"
      ]
    },
    {
      "cell_type": "code",
      "execution_count": null,
      "metadata": {
        "colab": {
          "base_uri": "https://localhost:8080/"
        },
        "id": "12f_rD_32Tws",
        "outputId": "23e76673-85ad-443b-8bd9-b4bd6463dd3c"
      },
      "outputs": [],
      "source": [
        "X_train, X_test, y_train, y_test = train_test_split(features, label, test_size=0.2, shuffle=False)\n",
        "print(\"Training set:\", X_train.shape, y_train.shape)\n",
        "print(\"Testing set:\", X_test.shape, y_test.shape)\n"
      ]
    },
    {
      "cell_type": "code",
      "execution_count": null,
      "metadata": {
        "colab": {
          "base_uri": "https://localhost:8080/"
        },
        "id": "5ipiuUN42XyY",
        "outputId": "608bec7f-1a1d-4c31-adf2-9c36c1c43312"
      },
      "outputs": [],
      "source": [
        "# Initialize and train the model\n",
        "model = RandomForestRegressor(n_estimators=100, random_state=42)\n",
        "model.fit(X_train, y_train)\n",
        "\n",
        "print(\"Random Forest model trained!\")\n"
      ]
    },
    {
      "cell_type": "code",
      "execution_count": null,
      "metadata": {
        "colab": {
          "base_uri": "https://localhost:8080/"
        },
        "id": "vB4HWg6c2_ew",
        "outputId": "663ffca2-96fa-400f-9397-5a4d84ea709a"
      },
      "outputs": [],
      "source": [
        "# Make predictions on test data\n",
        "y_pred = model.predict(X_test)\n",
        "\n",
        "# Calculate metrics\n",
        "mse = mean_squared_error(y_test, y_pred)\n",
        "r2 = r2_score(y_test, y_pred)\n",
        "\n",
        "print(f\"Mean Squared Error: {mse:.2f}\")\n",
        "print(f\"R² Score: {r2:.2f}\")\n"
      ]
    },
    {
      "cell_type": "code",
      "execution_count": null,
      "metadata": {
        "colab": {
          "base_uri": "https://localhost:8080/",
          "height": 564
        },
        "id": "Y7wGGPau3HaI",
        "outputId": "7a003657-bc31-4614-ecb2-77d6ef76bd53"
      },
      "outputs": [],
      "source": [
        "plt.figure(figsize=(12, 6))\n",
        "plt.plot(y_test.index, y_test, label='Actual Price', linewidth=2)\n",
        "plt.plot(y_test.index, y_pred, label='Predicted Price', linestyle='--', linewidth=2)\n",
        "plt.title(f\"{ticker} - Actual vs Predicted Closing Prices\")\n",
        "plt.xlabel(\"Date\")\n",
        "plt.ylabel(\"Price (USD)\")\n",
        "plt.legend()\n",
        "plt.grid(True)\n",
        "plt.show()\n"
      ]
    },
    {
      "cell_type": "code",
      "execution_count": null,
      "metadata": {
        "colab": {
          "base_uri": "https://localhost:8080/"
        },
        "id": "FVY38mtv6EjY",
        "outputId": "33cb961c-930d-4ce5-c592-c347c9e5c986"
      },
      "outputs": [],
      "source": [
        "# Use the last available data point from the features\n",
        "latest_features = features.iloc[-1].values.reshape(1, -1)\n",
        "next_day_prediction = model.predict(latest_features)[0]\n",
        "print(f\"Predicted next closing price for {ticker}: ${next_day_prediction:.2f}\")\n"
      ]
    }
  ],
  "metadata": {
    "accelerator": "GPU",
    "colab": {
      "gpuType": "T4",
      "provenance": []
    },
    "kernelspec": {
      "display_name": "Python 3",
      "name": "python3"
    },
    "language_info": {
      "name": "python"
    }
  },
  "nbformat": 4,
  "nbformat_minor": 0
}
